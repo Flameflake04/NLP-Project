{
  "cells": [
    {
      "cell_type": "code",
      "execution_count": 32,
      "id": "c2b565d5",
      "metadata": {
        "id": "c2b565d5"
      },
      "outputs": [
        {
          "name": "stdout",
          "output_type": "stream",
          "text": [
            "cpu\n"
          ]
        }
      ],
      "source": [
        "import torch\n",
        "device = 'cuda' if torch.cuda.is_available() else 'cpu'\n",
        "print(device)"
      ]
    },
    {
      "cell_type": "code",
      "execution_count": 33,
      "id": "07983152",
      "metadata": {
        "colab": {
          "base_uri": "https://localhost:8080/"
        },
        "id": "07983152",
        "outputId": "13781432-4407-4743-9d60-e7f782136338"
      },
      "outputs": [
        {
          "name": "stderr",
          "output_type": "stream",
          "text": [
            "[nltk_data] Downloading package punkt to\n",
            "[nltk_data]     C:\\Users\\tranx\\AppData\\Roaming\\nltk_data...\n",
            "[nltk_data]   Package punkt is already up-to-date!\n",
            "[nltk_data] Downloading package punkt_tab to\n",
            "[nltk_data]     C:\\Users\\tranx\\AppData\\Roaming\\nltk_data...\n",
            "[nltk_data]   Package punkt_tab is already up-to-date!\n",
            "[nltk_data] Downloading package stopwords to\n",
            "[nltk_data]     C:\\Users\\tranx\\AppData\\Roaming\\nltk_data...\n",
            "[nltk_data]   Package stopwords is already up-to-date!\n"
          ]
        }
      ],
      "source": [
        "import nltk\n",
        "from nltk.tokenize import sent_tokenize, word_tokenize\n",
        "from nltk.corpus import stopwords\n",
        "import re\n",
        "import string\n",
        "\n",
        "nltk.download('punkt')\n",
        "nltk.download('punkt_tab')\n",
        "nltk.download('stopwords')\n",
        "\n",
        "# This function use regex and nltk to tokenize sentnece, remove stopwords and rejoined sentence again\n",
        "# Input: A sentence (or an instance in a training data)\n",
        "# Output: Cleaned sentence\n",
        "def clean_text(text):\n",
        "    text = text.lower()\n",
        "    text = re.sub(r'[^a-z\\s]', '', text)\n",
        "    text = text.translate(str.maketrans('', '', string.punctuation))\n",
        "    tokens = nltk.word_tokenize(text)\n",
        "    clean_sentence = ' '.join(tokens)\n",
        "    return clean_sentence"
      ]
    },
    {
      "cell_type": "code",
      "execution_count": 34,
      "id": "51c0c7b9",
      "metadata": {},
      "outputs": [],
      "source": [
        "import pandas as pd\n",
        "# Read csv and target the text for preprocessing\n",
        "df_train = pd.read_csv(\"trac2_CONVT_train.csv\")\n",
        "columnsTrain = df_train[\"text\"]"
      ]
    },
    {
      "cell_type": "code",
      "execution_count": 35,
      "id": "5025b227",
      "metadata": {},
      "outputs": [],
      "source": [
        "# This cell prepare token for preprocessing data in each sentence\n",
        "# 1. Every sentence needs to start with <SOS> (Start of Sentence) token\n",
        "# 2. Every sentence needs to end with <EOS> (End of Sentence) token\n",
        "# 3. Every sentence needs to have the same length for training. Find the longest\n",
        "#    sentence, store the length into a variable. Then pad all the remaining \n",
        "#    sentence with <PAD> token to ensure every other sentence has the same length\n",
        "#    as the longest one\n",
        "# 4. If words is not in the training sentence vocab, assign it with <UNK> token\n",
        "PAD_TOKEN = \"<PAD>\"\n",
        "EOS_TOKEN = \"<EOS>\"\n",
        "SOS_TOKEN = \"<SOS>\"\n",
        "UNK_TOKEN = \"<UNK>\"\n",
        "listToken = [PAD_TOKEN, EOS_TOKEN, SOS_TOKEN, UNK_TOKEN]"
      ]
    },
    {
      "cell_type": "code",
      "execution_count": 56,
      "id": "522b390b",
      "metadata": {
        "colab": {
          "base_uri": "https://localhost:8080/"
        },
        "id": "522b390b",
        "outputId": "6ef17a92-05e2-4212-97fc-7585fa61f9dc"
      },
      "outputs": [],
      "source": [
        "# This cell build training vocab (include both 4 tokens from above)\n",
        "# This cell also change the sentence into list of word that are used to build the vector later\n",
        "\n",
        "emotionVocab = set()\n",
        "listSentence = []\n",
        "listWordVectorTrain = []\n",
        "maxLengthSentence = 0\n",
        "\n",
        "\n",
        "for column in columnsTrain:\n",
        "    cleanColumn = clean_text(column)\n",
        "    listSentence.append(cleanColumn)\n",
        "\n",
        "for sentence in listSentence:\n",
        "    listWord = sentence.split(\" \")\n",
        "    if \"\" in listWord:\n",
        "        listWord.remove(\"\")\n",
        "    if len(listWord) > maxLengthSentence:\n",
        "        maxLengthSentence = len(listWord)\n",
        "\n",
        "    listWordVectorTrain.append(listWord)\n",
        "    for word in listWord:\n",
        "        emotionVocab.add(word)\n",
        "\n",
        "\n",
        "\n",
        "emotionVocabList = list(emotionVocab) + listToken\n",
        "sortedVocab = sorted(emotionVocabList)"
      ]
    },
    {
      "cell_type": "code",
      "execution_count": 37,
      "id": "12280f3d",
      "metadata": {
        "colab": {
          "base_uri": "https://localhost:8080/"
        },
        "id": "12280f3d",
        "outputId": "f8f585bd-8c1a-4fed-cca4-6a6b1b9b9067"
      },
      "outputs": [],
      "source": [
        "# This function padding all the sentence in the training corpus to have the same length\n",
        "# as the longest sentence (127 in this case)\n",
        "\n",
        "def padSentence(listWordVector):\n",
        "    listSentencePad = []\n",
        "    for wordVector in listWordVector:\n",
        "        paddedWordVector = [SOS_TOKEN] + wordVector + ([PAD_TOKEN] * (maxLengthSentence - len(wordVector))) + [EOS_TOKEN]\n",
        "        listSentencePad.append(paddedWordVector)\n",
        "    return listSentencePad\n",
        "\n",
        "listSentencePadTrain = padSentence(listWordVectorTrain)"
      ]
    },
    {
      "cell_type": "code",
      "execution_count": 38,
      "id": "3230eda2",
      "metadata": {
        "colab": {
          "base_uri": "https://localhost:8080/"
        },
        "id": "3230eda2",
        "outputId": "d239df0e-ef6e-4a56-f490-85279fb7b2fc"
      },
      "outputs": [],
      "source": [
        "# Building dictionary that convert English words to integer in the training corpus vocab\n",
        "# Output: {'<EOS>': 0, '<PAD>': 1, '<SOS>': 2, '<UNK>': 3, 'a': 4, 'abalone': 5, 'abandon': 6, 'abandoned': 7, \n",
        "# 'abdicated': 8, 'abdomen': 9, 'abe': 10, 'abilities': 11, 'ability': 12,...}\n",
        "\n",
        "eng_word2int = {word: i for i, word in enumerate(sortedVocab)}\n"
      ]
    },
    {
      "cell_type": "code",
      "execution_count": 46,
      "id": "b5738987",
      "metadata": {
        "colab": {
          "base_uri": "https://localhost:8080/"
        },
        "id": "b5738987",
        "outputId": "6b0a6518-5a69-4bda-a9ba-cacd07ae133e"
      },
      "outputs": [
        {
          "name": "stdout",
          "output_type": "stream",
          "text": [
            "[   2 9623 2335 9873 8778   18 8789  533    1    1    1    1    1    1\n",
            "    1    1    1    1    1    1    1    1    1    1    1    1    1    1\n",
            "    1    1    1    1    1    1    1    1    1    1    1    1    1    1\n",
            "    1    1    1    1    1    1    1    1    1    1    1    1    1    1\n",
            "    1    1    1    1    1    1    1    1    1    1    1    1    1    1\n",
            "    1    1    1    1    1    1    1    1    1    1    1    1    1    1\n",
            "    1    1    1    1    1    1    1    1    1    1    1    1    1    1\n",
            "    1    1    1    1    1    1    1    1    1    1    1    1    1    1\n",
            "    1    1    1    1    1    1    1    1    1    1    1    1    1    1\n",
            "    0]\n"
          ]
        }
      ],
      "source": [
        "# Building tensor with the dictionary eng_word2int and padded corpus\n",
        "# The output will be a wordTensor where each word has an integer value correctsponding to the dictionary\n",
        "\n",
        "import numpy as np\n",
        "def convertToTensor(listSentencePad):\n",
        "    wordTensor = []\n",
        "    for listSentence in listSentencePad:\n",
        "        numericArray = []\n",
        "        for word in listSentence:\n",
        "            if word in eng_word2int:\n",
        "                numericArray.append(eng_word2int[word])\n",
        "            else:\n",
        "                numericArray.append(3)\n",
        "        wordTensor.append(np.array(numericArray))\n",
        "    return wordTensor\n",
        "    \n",
        "wordTensorTrain = convertToTensor(listSentencePadTrain)\n",
        "X_train = np.array(wordTensorTrain)\n",
        "print(wordTensorTrain[0])"
      ]
    },
    {
      "cell_type": "code",
      "execution_count": 40,
      "id": "579a0b87",
      "metadata": {},
      "outputs": [],
      "source": [
        "# For this task, I am using Glove for word embedding tasks\n",
        "# The Glove file can be download in https://nlp.stanford.edu/projects/glove/\n",
        "# I am using \"glove.6B.300d.txt\", meaning each words will be represented as 300 dimensional vectors\n",
        "# The cell below build the hashmap to encode word with their correctsponding vector from the Glove file\n",
        "# Input: glove.6B.300d.txt\n",
        "# Output: Hashmap look like this form:\n",
        "# embedding_index = { \"a\": [2 4 5 1 2 4 5 ...],\n",
        "#                     \"an\": [3 1 3 5 1 2 4 ...],...}\n",
        "# (Each list has 300 values since it represent 300 dimensions)\n",
        "\n",
        "\n",
        "embedding_dim = 300\n",
        "embedding_index = {}\n",
        "with open(\"glove.6B.300d.txt\", \"r\", encoding=\"utf-8\") as f:\n",
        "    for line in f:\n",
        "        values = line.split()\n",
        "        word = values[0]\n",
        "        vector = np.asarray(values[1:], dtype=\"float32\")\n",
        "        embedding_index[word] = vector"
      ]
    },
    {
      "cell_type": "code",
      "execution_count": 41,
      "id": "1488951f",
      "metadata": {},
      "outputs": [],
      "source": [
        "# Building an embedding matrix for the training task\n",
        "# The embedding matrix will have around 10000 rows (the number of unique words in training vocab) x 300 dimensions\n",
        "# This embedding matrix will have the form like this:\n",
        "# [[0 0 0 0 0 0 0 ...], -> 300d vector represents PAD_TOKEN (initialize to 0 vector)\n",
        "#  [0 0 0 0 0 0 0 ...], -> 300d vector represents EOS_TOKEN (initialize to 0 vector)\n",
        "#  [0 0 0 0 0 0 0 ...], -> 300d vector represents SOS_TOKEN (initialize to 0 vector)\n",
        "#  [1 3 1 2 3 1 2 ...], -> 300d vector represents UNK_TOKEN (initialize to a random vector)\n",
        "#  [...],\n",
        "#  [1 2 3 1 2 3 1 ...]] -> 300d vector represents PAD_TOKEN (initialize to represented i-th words in vocab)\n",
        "\n",
        "embedding_matrix = np.zeros((len(sortedVocab), embedding_dim))\n",
        "for word, idx in eng_word2int.items():\n",
        "    vector = embedding_index.get(word)\n",
        "    if vector is not None:\n",
        "        embedding_matrix[idx] = vector\n",
        "    elif word == PAD_TOKEN or word == SOS_TOKEN or word == EOS_TOKEN:\n",
        "        embedding_matrix[idx] = np.zeros(shape=(embedding_dim,))\n",
        "    elif word == UNK_TOKEN :\n",
        "        embedding_matrix[idx] = np.random.normal(scale=0.6, size=(embedding_dim,))"
      ]
    },
    {
      "cell_type": "code",
      "execution_count": 42,
      "id": "2cc1b6a0",
      "metadata": {
        "colab": {
          "base_uri": "https://localhost:8080/"
        },
        "id": "2cc1b6a0",
        "outputId": "c55886ed-079c-4d8e-ef6d-cca802b501ea"
      },
      "outputs": [],
      "source": [
        "# This cell build the output (Y_output) for any dataframe\n",
        "# Output of regression task: Emotion Intensity (From 0-5 in ordinal scale) and Emphathy Intensity (0-5 in ordinal scale)\n",
        "# Output of classficiation task: Emotional Polarity (0, 1, 2). 0 is positive, 1 is neutral and 2 is negative\n",
        "from numpy import unique\n",
        "\n",
        "def processOutput(df):\n",
        "    emotionColumnIndex = df.columns.get_loc(\"Emotion\")\n",
        "    emotionPolarityColumnIndex = df.columns.get_loc(\"EmotionalPolarity\")\n",
        "    emphathyColumnIndex = df.columns.get_loc(\"Empathy\")\n",
        "\n",
        "    Y_reg = []\n",
        "    Y_class = []\n",
        "    instance = []\n",
        "\n",
        "    for i in range(0, len(df)):\n",
        "        instance.append(df.iloc[i, emotionColumnIndex])\n",
        "        instance.append(df.iloc[i, emphathyColumnIndex])\n",
        "        Y_reg.append(instance)\n",
        "        instance = []\n",
        "\n",
        "    for i in range(0, len(df)):\n",
        "        instance.append(df.iloc[i, emotionPolarityColumnIndex])\n",
        "        Y_class.append(instance)\n",
        "        instance = []\n",
        "\n",
        "    return np.array(Y_reg), np.array(Y_class)\n",
        "\n",
        "Y_train_reg, Y_train_class = processOutput(df_train)\n",
        "nClass = len(unique(Y_train_class))"
      ]
    },
    {
      "cell_type": "code",
      "execution_count": 43,
      "id": "387814e4",
      "metadata": {
        "colab": {
          "base_uri": "https://localhost:8080/",
          "height": 1000
        },
        "id": "387814e4",
        "outputId": "73f8272d-736d-425e-c86b-7683b6254ffb"
      },
      "outputs": [
        {
          "name": "stderr",
          "output_type": "stream",
          "text": [
            "e:\\CS 421 - Project 1\\venv\\Lib\\site-packages\\keras\\src\\layers\\core\\embedding.py:97: UserWarning: Argument `input_length` is deprecated. Just remove it.\n",
            "  warnings.warn(\n"
          ]
        },
        {
          "name": "stdout",
          "output_type": "stream",
          "text": [
            "You must install graphviz (see instructions at https://graphviz.gitlab.io/download/) for `plot_model` to work.\n"
          ]
        }
      ],
      "source": [
        "import tensorflow as tf\n",
        "import random\n",
        "from tensorflow.keras.models import Sequential, Model\n",
        "from tensorflow.keras.layers import Dense, BatchNormalization, Dropout, Input\n",
        "from tensorflow.keras.optimizers import Adam\n",
        "from tensorflow.keras import regularizers\n",
        "from tensorflow.keras.utils import plot_model\n",
        "from tensorflow.keras.utils import to_categorical\n",
        "from tensorflow.keras.layers import Embedding\n",
        "from tensorflow.keras.initializers import Constant\n",
        "from tensorflow.keras.layers import LSTM, Dense\n",
        "\n",
        "np.random.seed(42)\n",
        "random.seed(42)\n",
        "tf.random.set_seed(42)\n",
        "inputs = Input(shape=(len(wordTensorTrain[0]),))\n",
        "\n",
        "embedding_layer = Embedding(\n",
        "    input_dim = len(sortedVocab),\n",
        "    output_dim = embedding_dim,\n",
        "    embeddings_initializer = Constant(embedding_matrix),\n",
        "    input_length = len(wordTensorTrain[0]),\n",
        "    trainable=True,\n",
        ")(inputs)\n",
        "\n",
        "lstmLayers = LSTM(128, activation='tanh', dropout = 0.2)(embedding_layer)\n",
        "batchNormalizeLayer = BatchNormalization()(lstmLayers)\n",
        "regression_output = Dense(2, name='regression')(batchNormalizeLayer)\n",
        "\n",
        "classification_output = Dense(nClass, activation = 'softmax', name='classification')(batchNormalizeLayer)\n",
        "\n",
        "modelNLP = Model(inputs = inputs, outputs=[regression_output, classification_output])\n",
        "\n",
        "modelNLP.compile(\n",
        "    optimizer=Adam(learning_rate=0.001),\n",
        "    loss={\n",
        "        'regression': 'mse',\n",
        "        'classification': 'categorical_crossentropy'\n",
        "    },\n",
        "    metrics={\n",
        "        'regression': ['mse'],\n",
        "        'classification': ['accuracy']\n",
        "    }\n",
        ")\n",
        "\n",
        "plot_model(modelNLP, to_file='model.png', show_shapes=True)"
      ]
    },
    {
      "cell_type": "code",
      "execution_count": null,
      "id": "jYwVw7On8ogU",
      "metadata": {
        "colab": {
          "base_uri": "https://localhost:8080/"
        },
        "id": "jYwVw7On8ogU",
        "outputId": "d17c3d07-e526-471b-c001-1f41da8b2f95"
      },
      "outputs": [
        {
          "name": "stdout",
          "output_type": "stream",
          "text": [
            "Epoch 1/50\n",
            "\u001b[1m278/278\u001b[0m \u001b[32m━━━━━━━━━━━━━━━━━━━━\u001b[0m\u001b[37m\u001b[0m \u001b[1m3s\u001b[0m 12ms/step - classification_accuracy: 0.9280 - classification_loss: 0.2147 - loss: 0.6263 - regression_loss: 0.4115 - regression_mse: 0.4116 - val_classification_accuracy: 0.6019 - val_classification_loss: 1.5962 - val_loss: 2.3131 - val_regression_loss: 0.7366 - val_regression_mse: 0.7361\n",
            "Epoch 2/50\n",
            "\u001b[1m278/278\u001b[0m \u001b[32m━━━━━━━━━━━━━━━━━━━━\u001b[0m\u001b[37m\u001b[0m \u001b[1m3s\u001b[0m 12ms/step - classification_accuracy: 0.9439 - classification_loss: 0.1775 - loss: 0.5883 - regression_loss: 0.4107 - regression_mse: 0.4108 - val_classification_accuracy: 0.6109 - val_classification_loss: 1.5582 - val_loss: 2.2538 - val_regression_loss: 0.7101 - val_regression_mse: 0.7104\n",
            "Epoch 3/50\n",
            "\u001b[1m278/278\u001b[0m \u001b[32m━━━━━━━━━━━━━━━━━━━━\u001b[0m\u001b[37m\u001b[0m \u001b[1m3s\u001b[0m 12ms/step - classification_accuracy: 0.9413 - classification_loss: 0.1822 - loss: 0.5901 - regression_loss: 0.4079 - regression_mse: 0.4079 - val_classification_accuracy: 0.6096 - val_classification_loss: 1.5488 - val_loss: 2.2377 - val_regression_loss: 0.7046 - val_regression_mse: 0.7060\n",
            "Epoch 4/50\n",
            "\u001b[1m278/278\u001b[0m \u001b[32m━━━━━━━━━━━━━━━━━━━━\u001b[0m\u001b[37m\u001b[0m \u001b[1m3s\u001b[0m 12ms/step - classification_accuracy: 0.9348 - classification_loss: 0.1852 - loss: 0.5952 - regression_loss: 0.4100 - regression_mse: 0.4100 - val_classification_accuracy: 0.6199 - val_classification_loss: 1.5610 - val_loss: 2.2409 - val_regression_loss: 0.6958 - val_regression_mse: 0.6973\n",
            "Epoch 5/50\n",
            "\u001b[1m278/278\u001b[0m \u001b[32m━━━━━━━━━━━━━━━━━━━━\u001b[0m\u001b[37m\u001b[0m \u001b[1m3s\u001b[0m 12ms/step - classification_accuracy: 0.9478 - classification_loss: 0.1615 - loss: 0.5679 - regression_loss: 0.4064 - regression_mse: 0.4064 - val_classification_accuracy: 0.6222 - val_classification_loss: 1.6240 - val_loss: 2.3035 - val_regression_loss: 0.6877 - val_regression_mse: 0.6890\n",
            "Epoch 6/50\n",
            "\u001b[1m278/278\u001b[0m \u001b[32m━━━━━━━━━━━━━━━━━━━━\u001b[0m\u001b[37m\u001b[0m \u001b[1m3s\u001b[0m 12ms/step - classification_accuracy: 0.9495 - classification_loss: 0.1574 - loss: 0.5626 - regression_loss: 0.4051 - regression_mse: 0.4052 - val_classification_accuracy: 0.6357 - val_classification_loss: 1.6465 - val_loss: 2.3407 - val_regression_loss: 0.6996 - val_regression_mse: 0.7016\n",
            "Epoch 7/50\n",
            "\u001b[1m278/278\u001b[0m \u001b[32m━━━━━━━━━━━━━━━━━━━━\u001b[0m\u001b[37m\u001b[0m \u001b[1m3s\u001b[0m 12ms/step - classification_accuracy: 0.9522 - classification_loss: 0.1500 - loss: 0.5512 - regression_loss: 0.4012 - regression_mse: 0.4012 - val_classification_accuracy: 0.6231 - val_classification_loss: 1.6544 - val_loss: 2.3388 - val_regression_loss: 0.6916 - val_regression_mse: 0.6929\n",
            "Epoch 8/50\n",
            "\u001b[1m278/278\u001b[0m \u001b[32m━━━━━━━━━━━━━━━━━━━━\u001b[0m\u001b[37m\u001b[0m \u001b[1m3s\u001b[0m 12ms/step - classification_accuracy: 0.9554 - classification_loss: 0.1410 - loss: 0.5364 - regression_loss: 0.3953 - regression_mse: 0.3953 - val_classification_accuracy: 0.6226 - val_classification_loss: 1.7304 - val_loss: 2.4207 - val_regression_loss: 0.6946 - val_regression_mse: 0.6961\n",
            "Epoch 9/50\n",
            "\u001b[1m278/278\u001b[0m \u001b[32m━━━━━━━━━━━━━━━━━━━━\u001b[0m\u001b[37m\u001b[0m \u001b[1m3s\u001b[0m 12ms/step - classification_accuracy: 0.9584 - classification_loss: 0.1379 - loss: 0.5298 - regression_loss: 0.3920 - regression_mse: 0.3920 - val_classification_accuracy: 0.6159 - val_classification_loss: 1.7245 - val_loss: 2.4252 - val_regression_loss: 0.7030 - val_regression_mse: 0.7049\n",
            "Epoch 10/50\n",
            "\u001b[1m278/278\u001b[0m \u001b[32m━━━━━━━━━━━━━━━━━━━━\u001b[0m\u001b[37m\u001b[0m \u001b[1m3s\u001b[0m 12ms/step - classification_accuracy: 0.9607 - classification_loss: 0.1285 - loss: 0.5174 - regression_loss: 0.3889 - regression_mse: 0.3889 - val_classification_accuracy: 0.6114 - val_classification_loss: 1.8475 - val_loss: 2.5515 - val_regression_loss: 0.7059 - val_regression_mse: 0.7079\n",
            "Epoch 11/50\n",
            "\u001b[1m278/278\u001b[0m \u001b[32m━━━━━━━━━━━━━━━━━━━━\u001b[0m\u001b[37m\u001b[0m \u001b[1m3s\u001b[0m 12ms/step - classification_accuracy: 0.9629 - classification_loss: 0.1259 - loss: 0.5153 - regression_loss: 0.3894 - regression_mse: 0.3894 - val_classification_accuracy: 0.6114 - val_classification_loss: 1.8684 - val_loss: 2.5734 - val_regression_loss: 0.7082 - val_regression_mse: 0.7087\n",
            "Epoch 12/50\n",
            "\u001b[1m278/278\u001b[0m \u001b[32m━━━━━━━━━━━━━━━━━━━━\u001b[0m\u001b[37m\u001b[0m \u001b[1m3s\u001b[0m 12ms/step - classification_accuracy: 0.9663 - classification_loss: 0.1150 - loss: 0.4998 - regression_loss: 0.3848 - regression_mse: 0.3848 - val_classification_accuracy: 0.6078 - val_classification_loss: 1.8374 - val_loss: 2.5472 - val_regression_loss: 0.7151 - val_regression_mse: 0.7155\n",
            "Epoch 13/50\n",
            "\u001b[1m278/278\u001b[0m \u001b[32m━━━━━━━━━━━━━━━━━━━━\u001b[0m\u001b[37m\u001b[0m \u001b[1m3s\u001b[0m 12ms/step - classification_accuracy: 0.9668 - classification_loss: 0.1155 - loss: 0.4988 - regression_loss: 0.3833 - regression_mse: 0.3833 - val_classification_accuracy: 0.6105 - val_classification_loss: 1.9183 - val_loss: 2.6072 - val_regression_loss: 0.6957 - val_regression_mse: 0.6968\n",
            "Epoch 14/50\n",
            "\u001b[1m278/278\u001b[0m \u001b[32m━━━━━━━━━━━━━━━━━━━━\u001b[0m\u001b[37m\u001b[0m \u001b[1m3s\u001b[0m 12ms/step - classification_accuracy: 0.9635 - classification_loss: 0.1223 - loss: 0.5037 - regression_loss: 0.3814 - regression_mse: 0.3814 - val_classification_accuracy: 0.6014 - val_classification_loss: 1.8713 - val_loss: 2.5788 - val_regression_loss: 0.7088 - val_regression_mse: 0.7101\n",
            "Epoch 15/50\n",
            "\u001b[1m278/278\u001b[0m \u001b[32m━━━━━━━━━━━━━━━━━━━━\u001b[0m\u001b[37m\u001b[0m \u001b[1m3s\u001b[0m 12ms/step - classification_accuracy: 0.9665 - classification_loss: 0.1126 - loss: 0.4895 - regression_loss: 0.3769 - regression_mse: 0.3769 - val_classification_accuracy: 0.5978 - val_classification_loss: 1.9436 - val_loss: 2.6521 - val_regression_loss: 0.7090 - val_regression_mse: 0.7100\n",
            "Epoch 16/50\n",
            "\u001b[1m278/278\u001b[0m \u001b[32m━━━━━━━━━━━━━━━━━━━━\u001b[0m\u001b[37m\u001b[0m \u001b[1m3s\u001b[0m 12ms/step - classification_accuracy: 0.9657 - classification_loss: 0.1144 - loss: 0.4923 - regression_loss: 0.3779 - regression_mse: 0.3779 - val_classification_accuracy: 0.6041 - val_classification_loss: 1.9296 - val_loss: 2.6319 - val_regression_loss: 0.7020 - val_regression_mse: 0.7026\n",
            "Epoch 17/50\n",
            "\u001b[1m278/278\u001b[0m \u001b[32m━━━━━━━━━━━━━━━━━━━━\u001b[0m\u001b[37m\u001b[0m \u001b[1m3s\u001b[0m 12ms/step - classification_accuracy: 0.9597 - classification_loss: 0.1214 - loss: 0.4995 - regression_loss: 0.3781 - regression_mse: 0.3781 - val_classification_accuracy: 0.5757 - val_classification_loss: 1.7815 - val_loss: 2.5007 - val_regression_loss: 0.7187 - val_regression_mse: 0.7190\n",
            "Epoch 18/50\n",
            "\u001b[1m278/278\u001b[0m \u001b[32m━━━━━━━━━━━━━━━━━━━━\u001b[0m\u001b[37m\u001b[0m \u001b[1m3s\u001b[0m 12ms/step - classification_accuracy: 0.9583 - classification_loss: 0.1314 - loss: 0.5184 - regression_loss: 0.3870 - regression_mse: 0.3870 - val_classification_accuracy: 0.6014 - val_classification_loss: 1.8058 - val_loss: 2.5198 - val_regression_loss: 0.7124 - val_regression_mse: 0.7141\n",
            "Epoch 19/50\n",
            "\u001b[1m278/278\u001b[0m \u001b[32m━━━━━━━━━━━━━━━━━━━━\u001b[0m\u001b[37m\u001b[0m \u001b[1m3s\u001b[0m 12ms/step - classification_accuracy: 0.9659 - classification_loss: 0.1239 - loss: 0.4991 - regression_loss: 0.3752 - regression_mse: 0.3752 - val_classification_accuracy: 0.5974 - val_classification_loss: 1.8345 - val_loss: 2.5472 - val_regression_loss: 0.7140 - val_regression_mse: 0.7154\n",
            "Epoch 20/50\n",
            "\u001b[1m278/278\u001b[0m \u001b[32m━━━━━━━━━━━━━━━━━━━━\u001b[0m\u001b[37m\u001b[0m \u001b[1m3s\u001b[0m 12ms/step - classification_accuracy: 0.9707 - classification_loss: 0.1035 - loss: 0.4741 - regression_loss: 0.3706 - regression_mse: 0.3706 - val_classification_accuracy: 0.5983 - val_classification_loss: 2.0335 - val_loss: 2.7616 - val_regression_loss: 0.7252 - val_regression_mse: 0.7266\n",
            "Epoch 21/50\n",
            "\u001b[1m278/278\u001b[0m \u001b[32m━━━━━━━━━━━━━━━━━━━━\u001b[0m\u001b[37m\u001b[0m \u001b[1m3s\u001b[0m 12ms/step - classification_accuracy: 0.9678 - classification_loss: 0.1113 - loss: 0.4761 - regression_loss: 0.3648 - regression_mse: 0.3648 - val_classification_accuracy: 0.6046 - val_classification_loss: 1.8822 - val_loss: 2.5802 - val_regression_loss: 0.7047 - val_regression_mse: 0.7058\n",
            "Epoch 22/50\n",
            "\u001b[1m278/278\u001b[0m \u001b[32m━━━━━━━━━━━━━━━━━━━━\u001b[0m\u001b[37m\u001b[0m \u001b[1m3s\u001b[0m 12ms/step - classification_accuracy: 0.9723 - classification_loss: 0.0981 - loss: 0.4566 - regression_loss: 0.3586 - regression_mse: 0.3586 - val_classification_accuracy: 0.6091 - val_classification_loss: 1.9608 - val_loss: 2.6992 - val_regression_loss: 0.7373 - val_regression_mse: 0.7397\n",
            "Epoch 23/50\n",
            "\u001b[1m278/278\u001b[0m \u001b[32m━━━━━━━━━━━━━━━━━━━━\u001b[0m\u001b[37m\u001b[0m \u001b[1m3s\u001b[0m 12ms/step - classification_accuracy: 0.9678 - classification_loss: 0.1030 - loss: 0.4620 - regression_loss: 0.3589 - regression_mse: 0.3589 - val_classification_accuracy: 0.6041 - val_classification_loss: 1.9314 - val_loss: 2.6519 - val_regression_loss: 0.7223 - val_regression_mse: 0.7241\n",
            "Epoch 24/50\n",
            "\u001b[1m278/278\u001b[0m \u001b[32m━━━━━━━━━━━━━━━━━━━━\u001b[0m\u001b[37m\u001b[0m \u001b[1m3s\u001b[0m 12ms/step - classification_accuracy: 0.9713 - classification_loss: 0.0962 - loss: 0.4492 - regression_loss: 0.3530 - regression_mse: 0.3531 - val_classification_accuracy: 0.5884 - val_classification_loss: 2.0642 - val_loss: 2.7999 - val_regression_loss: 0.7329 - val_regression_mse: 0.7339\n",
            "Epoch 25/50\n",
            "\u001b[1m278/278\u001b[0m \u001b[32m━━━━━━━━━━━━━━━━━━━━\u001b[0m\u001b[37m\u001b[0m \u001b[1m3s\u001b[0m 12ms/step - classification_accuracy: 0.9689 - classification_loss: 0.1012 - loss: 0.4551 - regression_loss: 0.3539 - regression_mse: 0.3539 - val_classification_accuracy: 0.5951 - val_classification_loss: 2.0296 - val_loss: 2.7684 - val_regression_loss: 0.7368 - val_regression_mse: 0.7374\n",
            "Epoch 26/50\n",
            "\u001b[1m278/278\u001b[0m \u001b[32m━━━━━━━━━━━━━━━━━━━━\u001b[0m\u001b[37m\u001b[0m \u001b[1m3s\u001b[0m 12ms/step - classification_accuracy: 0.9765 - classification_loss: 0.0857 - loss: 0.4358 - regression_loss: 0.3501 - regression_mse: 0.3501 - val_classification_accuracy: 0.5766 - val_classification_loss: 2.1811 - val_loss: 2.9306 - val_regression_loss: 0.7490 - val_regression_mse: 0.7498\n",
            "Epoch 27/50\n",
            "\u001b[1m278/278\u001b[0m \u001b[32m━━━━━━━━━━━━━━━━━━━━\u001b[0m\u001b[37m\u001b[0m \u001b[1m3s\u001b[0m 12ms/step - classification_accuracy: 0.9737 - classification_loss: 0.0952 - loss: 0.4448 - regression_loss: 0.3496 - regression_mse: 0.3496 - val_classification_accuracy: 0.5893 - val_classification_loss: 2.0391 - val_loss: 2.7901 - val_regression_loss: 0.7478 - val_regression_mse: 0.7496\n",
            "Epoch 28/50\n",
            "\u001b[1m278/278\u001b[0m \u001b[32m━━━━━━━━━━━━━━━━━━━━\u001b[0m\u001b[37m\u001b[0m \u001b[1m3s\u001b[0m 12ms/step - classification_accuracy: 0.9728 - classification_loss: 0.0990 - loss: 0.4453 - regression_loss: 0.3464 - regression_mse: 0.3464 - val_classification_accuracy: 0.5956 - val_classification_loss: 2.0199 - val_loss: 2.7593 - val_regression_loss: 0.7388 - val_regression_mse: 0.7412\n",
            "Epoch 29/50\n",
            "\u001b[1m278/278\u001b[0m \u001b[32m━━━━━━━━━━━━━━━━━━━━\u001b[0m\u001b[37m\u001b[0m \u001b[1m3s\u001b[0m 12ms/step - classification_accuracy: 0.9693 - classification_loss: 0.0993 - loss: 0.4409 - regression_loss: 0.3416 - regression_mse: 0.3416 - val_classification_accuracy: 0.6114 - val_classification_loss: 1.9508 - val_loss: 2.6843 - val_regression_loss: 0.7298 - val_regression_mse: 0.7322\n",
            "Epoch 30/50\n",
            "\u001b[1m278/278\u001b[0m \u001b[32m━━━━━━━━━━━━━━━━━━━━\u001b[0m\u001b[37m\u001b[0m \u001b[1m3s\u001b[0m 12ms/step - classification_accuracy: 0.9704 - classification_loss: 0.1046 - loss: 0.4525 - regression_loss: 0.3478 - regression_mse: 0.3479 - val_classification_accuracy: 0.6136 - val_classification_loss: 1.9998 - val_loss: 2.7578 - val_regression_loss: 0.7578 - val_regression_mse: 0.7607\n",
            "Epoch 31/50\n",
            "\u001b[1m278/278\u001b[0m \u001b[32m━━━━━━━━━━━━━━━━━━━━\u001b[0m\u001b[37m\u001b[0m \u001b[1m3s\u001b[0m 12ms/step - classification_accuracy: 0.9750 - classification_loss: 0.0934 - loss: 0.4340 - regression_loss: 0.3406 - regression_mse: 0.3406 - val_classification_accuracy: 0.6118 - val_classification_loss: 1.9777 - val_loss: 2.7295 - val_regression_loss: 0.7524 - val_regression_mse: 0.7550\n",
            "Epoch 32/50\n",
            "\u001b[1m278/278\u001b[0m \u001b[32m━━━━━━━━━━━━━━━━━━━━\u001b[0m\u001b[37m\u001b[0m \u001b[1m3s\u001b[0m 12ms/step - classification_accuracy: 0.9732 - classification_loss: 0.0923 - loss: 0.4314 - regression_loss: 0.3391 - regression_mse: 0.3391 - val_classification_accuracy: 0.6046 - val_classification_loss: 1.9829 - val_loss: 2.7210 - val_regression_loss: 0.7374 - val_regression_mse: 0.7399\n",
            "Epoch 33/50\n",
            "\u001b[1m278/278\u001b[0m \u001b[32m━━━━━━━━━━━━━━━━━━━━\u001b[0m\u001b[37m\u001b[0m \u001b[1m3s\u001b[0m 12ms/step - classification_accuracy: 0.9728 - classification_loss: 0.0942 - loss: 0.4316 - regression_loss: 0.3374 - regression_mse: 0.3374 - val_classification_accuracy: 0.6069 - val_classification_loss: 1.9753 - val_loss: 2.7547 - val_regression_loss: 0.7762 - val_regression_mse: 0.7786\n",
            "Epoch 34/50\n",
            "\u001b[1m278/278\u001b[0m \u001b[32m━━━━━━━━━━━━━━━━━━━━\u001b[0m\u001b[37m\u001b[0m \u001b[1m3s\u001b[0m 12ms/step - classification_accuracy: 0.9764 - classification_loss: 0.0861 - loss: 0.4199 - regression_loss: 0.3339 - regression_mse: 0.3339 - val_classification_accuracy: 0.6136 - val_classification_loss: 2.0285 - val_loss: 2.7842 - val_regression_loss: 0.7542 - val_regression_mse: 0.7575\n",
            "Epoch 35/50\n",
            "\u001b[1m278/278\u001b[0m \u001b[32m━━━━━━━━━━━━━━━━━━━━\u001b[0m\u001b[37m\u001b[0m \u001b[1m3s\u001b[0m 12ms/step - classification_accuracy: 0.9754 - classification_loss: 0.0879 - loss: 0.4171 - regression_loss: 0.3292 - regression_mse: 0.3292 - val_classification_accuracy: 0.6096 - val_classification_loss: 2.0791 - val_loss: 2.8657 - val_regression_loss: 0.7827 - val_regression_mse: 0.7855\n",
            "Epoch 36/50\n",
            "\u001b[1m278/278\u001b[0m \u001b[32m━━━━━━━━━━━━━━━━━━━━\u001b[0m\u001b[37m\u001b[0m \u001b[1m3s\u001b[0m 12ms/step - classification_accuracy: 0.9765 - classification_loss: 0.0816 - loss: 0.4044 - regression_loss: 0.3227 - regression_mse: 0.3227 - val_classification_accuracy: 0.6023 - val_classification_loss: 2.0980 - val_loss: 2.8692 - val_regression_loss: 0.7671 - val_regression_mse: 0.7693\n",
            "Epoch 37/50\n",
            "\u001b[1m278/278\u001b[0m \u001b[32m━━━━━━━━━━━━━━━━━━━━\u001b[0m\u001b[37m\u001b[0m \u001b[1m3s\u001b[0m 12ms/step - classification_accuracy: 0.9736 - classification_loss: 0.0880 - loss: 0.4132 - regression_loss: 0.3252 - regression_mse: 0.3252 - val_classification_accuracy: 0.6073 - val_classification_loss: 2.0916 - val_loss: 2.8601 - val_regression_loss: 0.7685 - val_regression_mse: 0.7703\n",
            "Epoch 38/50\n",
            "\u001b[1m278/278\u001b[0m \u001b[32m━━━━━━━━━━━━━━━━━━━━\u001b[0m\u001b[37m\u001b[0m \u001b[1m3s\u001b[0m 12ms/step - classification_accuracy: 0.9772 - classification_loss: 0.0820 - loss: 0.4067 - regression_loss: 0.3247 - regression_mse: 0.3247 - val_classification_accuracy: 0.6037 - val_classification_loss: 2.0474 - val_loss: 2.7972 - val_regression_loss: 0.7516 - val_regression_mse: 0.7531\n",
            "Epoch 39/50\n",
            "\u001b[1m278/278\u001b[0m \u001b[32m━━━━━━━━━━━━━━━━━━━━\u001b[0m\u001b[37m\u001b[0m \u001b[1m3s\u001b[0m 12ms/step - classification_accuracy: 0.9806 - classification_loss: 0.0792 - loss: 0.4008 - regression_loss: 0.3216 - regression_mse: 0.3216 - val_classification_accuracy: 0.6064 - val_classification_loss: 2.0868 - val_loss: 2.8528 - val_regression_loss: 0.7636 - val_regression_mse: 0.7651\n",
            "Epoch 40/50\n",
            "\u001b[1m278/278\u001b[0m \u001b[32m━━━━━━━━━━━━━━━━━━━━\u001b[0m\u001b[37m\u001b[0m \u001b[1m3s\u001b[0m 13ms/step - classification_accuracy: 0.9820 - classification_loss: 0.0733 - loss: 0.3892 - regression_loss: 0.3159 - regression_mse: 0.3159 - val_classification_accuracy: 0.6154 - val_classification_loss: 2.0968 - val_loss: 2.8663 - val_regression_loss: 0.7686 - val_regression_mse: 0.7704\n",
            "Epoch 41/50\n",
            "\u001b[1m278/278\u001b[0m \u001b[32m━━━━━━━━━━━━━━━━━━━━\u001b[0m\u001b[37m\u001b[0m \u001b[1m3s\u001b[0m 12ms/step - classification_accuracy: 0.9789 - classification_loss: 0.0782 - loss: 0.3914 - regression_loss: 0.3132 - regression_mse: 0.3132 - val_classification_accuracy: 0.6019 - val_classification_loss: 2.0798 - val_loss: 2.8638 - val_regression_loss: 0.7857 - val_regression_mse: 0.7881\n",
            "Epoch 42/50\n",
            "\u001b[1m278/278\u001b[0m \u001b[32m━━━━━━━━━━━━━━━━━━━━\u001b[0m\u001b[37m\u001b[0m \u001b[1m3s\u001b[0m 12ms/step - classification_accuracy: 0.9807 - classification_loss: 0.0736 - loss: 0.3889 - regression_loss: 0.3153 - regression_mse: 0.3153 - val_classification_accuracy: 0.6060 - val_classification_loss: 2.1395 - val_loss: 2.9138 - val_regression_loss: 0.7704 - val_regression_mse: 0.7726\n",
            "Epoch 43/50\n",
            "\u001b[1m278/278\u001b[0m \u001b[32m━━━━━━━━━━━━━━━━━━━━\u001b[0m\u001b[37m\u001b[0m \u001b[1m3s\u001b[0m 12ms/step - classification_accuracy: 0.9781 - classification_loss: 0.0840 - loss: 0.3991 - regression_loss: 0.3151 - regression_mse: 0.3151 - val_classification_accuracy: 0.6141 - val_classification_loss: 2.0584 - val_loss: 2.8395 - val_regression_loss: 0.7782 - val_regression_mse: 0.7811\n",
            "Epoch 44/50\n",
            "\u001b[1m278/278\u001b[0m \u001b[32m━━━━━━━━━━━━━━━━━━━━\u001b[0m\u001b[37m\u001b[0m \u001b[1m3s\u001b[0m 12ms/step - classification_accuracy: 0.9771 - classification_loss: 0.0886 - loss: 0.3995 - regression_loss: 0.3109 - regression_mse: 0.3109 - val_classification_accuracy: 0.6208 - val_classification_loss: 2.0843 - val_loss: 2.8644 - val_regression_loss: 0.7795 - val_regression_mse: 0.7815\n",
            "Epoch 45/50\n",
            "\u001b[1m278/278\u001b[0m \u001b[32m━━━━━━━━━━━━━━━━━━━━\u001b[0m\u001b[37m\u001b[0m \u001b[1m3s\u001b[0m 12ms/step - classification_accuracy: 0.9827 - classification_loss: 0.0666 - loss: 0.3698 - regression_loss: 0.3032 - regression_mse: 0.3032 - val_classification_accuracy: 0.6168 - val_classification_loss: 2.0983 - val_loss: 2.8928 - val_regression_loss: 0.7903 - val_regression_mse: 0.7925\n",
            "Epoch 46/50\n",
            "\u001b[1m278/278\u001b[0m \u001b[32m━━━━━━━━━━━━━━━━━━━━\u001b[0m\u001b[37m\u001b[0m \u001b[1m3s\u001b[0m 12ms/step - classification_accuracy: 0.9805 - classification_loss: 0.0693 - loss: 0.3759 - regression_loss: 0.3066 - regression_mse: 0.3066 - val_classification_accuracy: 0.6123 - val_classification_loss: 2.1403 - val_loss: 2.9342 - val_regression_loss: 0.7978 - val_regression_mse: 0.8005\n",
            "Epoch 47/50\n",
            "\u001b[1m278/278\u001b[0m \u001b[32m━━━━━━━━━━━━━━━━━━━━\u001b[0m\u001b[37m\u001b[0m \u001b[1m4s\u001b[0m 13ms/step - classification_accuracy: 0.9806 - classification_loss: 0.0739 - loss: 0.3824 - regression_loss: 0.3084 - regression_mse: 0.3084 - val_classification_accuracy: 0.6041 - val_classification_loss: 2.1444 - val_loss: 2.9172 - val_regression_loss: 0.7753 - val_regression_mse: 0.7782\n",
            "Epoch 48/50\n",
            "\u001b[1m278/278\u001b[0m \u001b[32m━━━━━━━━━━━━━━━━━━━━\u001b[0m\u001b[37m\u001b[0m \u001b[1m3s\u001b[0m 12ms/step - classification_accuracy: 0.9808 - classification_loss: 0.0666 - loss: 0.3715 - regression_loss: 0.3049 - regression_mse: 0.3049 - val_classification_accuracy: 0.6204 - val_classification_loss: 2.1417 - val_loss: 2.9592 - val_regression_loss: 0.8223 - val_regression_mse: 0.8249\n",
            "Epoch 49/50\n",
            "\u001b[1m278/278\u001b[0m \u001b[32m━━━━━━━━━━━━━━━━━━━━\u001b[0m\u001b[37m\u001b[0m \u001b[1m3s\u001b[0m 12ms/step - classification_accuracy: 0.9825 - classification_loss: 0.0704 - loss: 0.3732 - regression_loss: 0.3028 - regression_mse: 0.3028 - val_classification_accuracy: 0.6078 - val_classification_loss: 2.2410 - val_loss: 2.9960 - val_regression_loss: 0.7570 - val_regression_mse: 0.7593\n",
            "Epoch 50/50\n",
            "\u001b[1m278/278\u001b[0m \u001b[32m━━━━━━━━━━━━━━━━━━━━\u001b[0m\u001b[37m\u001b[0m \u001b[1m3s\u001b[0m 12ms/step - classification_accuracy: 0.9840 - classification_loss: 0.0668 - loss: 0.3702 - regression_loss: 0.3034 - regression_mse: 0.3034 - val_classification_accuracy: 0.6041 - val_classification_loss: 2.2044 - val_loss: 2.9605 - val_regression_loss: 0.7605 - val_regression_mse: 0.7624\n"
          ]
        }
      ],
      "source": [
        "modelNLP.fit(\n",
        "    X_train, [Y_train_reg, to_categorical(Y_train_class, num_classes = nClass)],\n",
        "    epochs=50,\n",
        "    batch_size=32,\n",
        "    validation_split=0.2,\n",
        "\n",
        ")\n",
        "\n",
        "modelNLP.save(\"RNNModel.keras\")"
      ]
    },
    {
      "cell_type": "markdown",
      "id": "orLCo9OxH4Iv",
      "metadata": {
        "id": "orLCo9OxH4Iv"
      },
      "source": []
    },
    {
      "cell_type": "code",
      "execution_count": 50,
      "id": "049a6811",
      "metadata": {
        "colab": {
          "base_uri": "https://localhost:8080/"
        },
        "id": "049a6811",
        "outputId": "32bb8235-170a-4d1d-f4c7-017d54b665a5"
      },
      "outputs": [
        {
          "name": "stdout",
          "output_type": "stream",
          "text": [
            "[   2 4041 4201  498 9873    1    1    1    1    1    1    1    1    1\n",
            "    1    1    1    1    1    1    1    1    1    1    1    1    1    1\n",
            "    1    1    1    1    1    1    1    1    1    1    1    1    1    1\n",
            "    1    1    1    1    1    1    1    1    1    1    1    1    1    1\n",
            "    1    1    1    1    1    1    1    1    1    1    1    1    1    1\n",
            "    1    1    1    1    1    1    1    1    1    1    1    1    1    1\n",
            "    1    1    1    1    1    1    1    1    1    1    1    1    1    1\n",
            "    1    1    1    1    1    1    1    1    1    1    1    1    1    1\n",
            "    1    1    1    1    1    1    1    1    1    1    1    1    1    1\n",
            "    0]\n"
          ]
        }
      ],
      "source": [
        "df_test = pd.read_csv(\"trac2_CONVT_dev.csv\")\n",
        "df_test[\"EmotionalPolarity\"] = np.ceil(df_test['EmotionalPolarity'])\n",
        "columnsTest = df_test[\"text\"]\n",
        "cleanColumn = []\n",
        "listSentenceTest = []\n",
        "\n",
        "for column in columnsTest:\n",
        "    cleanColumn = clean_text(column)\n",
        "    listSentenceTest.append(cleanColumn)\n",
        "listWordVectorTest = []\n",
        "for sentence in listSentenceTest:\n",
        "    listWord = sentence.split(\" \")\n",
        "    if \"\" in listWord:\n",
        "        listWord.remove(\"\")\n",
        "    listWordVectorTest.append(listWord)\n",
        "listWordVectorTest[0:5]\n",
        "\n",
        "listSentencePadTest = padSentence(listWordVectorTest)\n",
        "wordTensorTest = convertToTensor(listSentencePadTest)\n",
        "X_test = np.array(wordTensorTest)\n",
        "print(wordTensorTest[0])"
      ]
    },
    {
      "cell_type": "code",
      "execution_count": 51,
      "id": "-cWLboeNrBuc",
      "metadata": {
        "id": "-cWLboeNrBuc"
      },
      "outputs": [],
      "source": [
        "Y_test_reg, Y_test_class = processOutput(df_test)"
      ]
    },
    {
      "cell_type": "code",
      "execution_count": 52,
      "id": "Vx_McK7RrEe5",
      "metadata": {
        "colab": {
          "base_uri": "https://localhost:8080/",
          "height": 848
        },
        "id": "Vx_McK7RrEe5",
        "outputId": "55123604-b15c-4fa3-ce6c-ba45eff7e06f"
      },
      "outputs": [
        {
          "name": "stdout",
          "output_type": "stream",
          "text": [
            "\u001b[1m31/31\u001b[0m \u001b[32m━━━━━━━━━━━━━━━━━━━━\u001b[0m\u001b[37m\u001b[0m \u001b[1m3s\u001b[0m 80ms/step\n"
          ]
        },
        {
          "data": {
            "image/png": "[encoded data removed]",
            "text/plain": [
              "<Figure size 640x480 with 2 Axes>"
            ]
          },
          "metadata": {},
          "output_type": "display_data"
        },
        {
          "name": "stdout",
          "output_type": "stream",
          "text": [
            "MSE per output: [0.55666727 1.14004515]\n",
            "RMSE per output: [0.74610138 1.06772897]\n",
            "MAE per output: [0.5868087  0.87731581]\n",
            "Precision: 0.6051\n",
            "Recall:    0.5990\n",
            "F1 Score:  0.5963\n",
            "Accuracy:  0.5990\n"
          ]
        }
      ],
      "source": [
        "# Predict Y_pred and compare with Y_test, and build confusion matrix as well as compute stats\n",
        "from sklearn.metrics import mean_squared_error, mean_absolute_error\n",
        "from sklearn.metrics import precision_score, recall_score, f1_score, accuracy_score\n",
        "from sklearn.metrics import confusion_matrix, ConfusionMatrixDisplay\n",
        "import matplotlib.pyplot as plt\n",
        "from tensorflow.keras.models import load_model\n",
        "\n",
        "modelNLP = load_model(\"RNNModel.keras\")\n",
        "\n",
        "y_pred = modelNLP.predict(X_test)\n",
        "y_reg_pred = y_pred[0]\n",
        "y_class_pred = np.argmax(y_pred[1], axis=1)\n",
        "\n",
        "\n",
        "mse = mean_squared_error(Y_test_reg, y_reg_pred, multioutput='raw_values')\n",
        "\n",
        "rmse = np.sqrt(mse)\n",
        "\n",
        "mae = mean_absolute_error(Y_test_reg, y_reg_pred, multioutput='raw_values')\n",
        "\n",
        "cm = confusion_matrix(Y_test_class, y_class_pred)\n",
        "\n",
        "disp = ConfusionMatrixDisplay(confusion_matrix=cm)\n",
        "disp.plot(cmap=plt.cm.Blues)\n",
        "plt.show()\n",
        "\n",
        "precision = precision_score(Y_test_class, y_class_pred, average = \"weighted\")\n",
        "\n",
        "recall = recall_score(Y_test_class, y_class_pred, average = \"weighted\")\n",
        "\n",
        "f1 = f1_score(Y_test_class, y_class_pred, average = \"weighted\")\n",
        "\n",
        "accuracy = accuracy_score(Y_test_class, y_class_pred)\n",
        "\n",
        "print(\"MSE per output:\", mse)\n",
        "\n",
        "print(\"RMSE per output:\", rmse)\n",
        "\n",
        "print(\"MAE per output:\", mae)\n",
        "\n",
        "print(f\"Precision: {precision:.4f}\")\n",
        "\n",
        "print(f\"Recall:    {recall:.4f}\")\n",
        "\n",
        "print(f\"F1 Score:  {f1:.4f}\")\n",
        "\n",
        "print(f\"Accuracy:  {accuracy:.4f}\")"
      ]
    },
    {
      "cell_type": "code",
      "execution_count": 54,
      "id": "e405726a",
      "metadata": {},
      "outputs": [
        {
          "name": "stdout",
          "output_type": "stream",
          "text": [
            "[   2 9832 4322 8101 1147 1298 5022 2512 4607 5334 8729 5624 4271 2535\n",
            " 4869 9623 8881 8778 6010 3262   18 8789  533    1    1    1    1    1\n",
            "    1    1    1    1    1    1    1    1    1    1    1    1    1    1\n",
            "    1    1    1    1    1    1    1    1    1    1    1    1    1    1\n",
            "    1    1    1    1    1    1    1    1    1    1    1    1    1    1\n",
            "    1    1    1    1    1    1    1    1    1    1    1    1    1    1\n",
            "    1    1    1    1    1    1    1    1    1    1    1    1    1    1\n",
            "    1    1    1    1    1    1    1    1    1    1    1    1    1    1\n",
            "    1    1    1    1    1    1    1    1    1    1    1    1    1    1\n",
            "    0]\n"
          ]
        }
      ],
      "source": [
        "df_infer = pd.read_csv(\"trac2_CONVT_test.csv\")\n",
        "\n",
        "columnsInfer = df_infer[\"text\"]\n",
        "cleanColumn = []\n",
        "listSentenceInfer = []\n",
        "\n",
        "for column in columnsInfer:\n",
        "    cleanColumn = clean_text(column)\n",
        "    listSentenceInfer.append(cleanColumn)\n",
        "listWordVectorInfer = []\n",
        "for sentence in listSentenceInfer:\n",
        "    listWord = sentence.split(\" \")\n",
        "    if \"\" in listWord:\n",
        "        listWord.remove(\"\")\n",
        "    listWordVectorInfer.append(listWord)\n",
        "\n",
        "listSentencePadInfer = padSentence(listWordVectorInfer)\n",
        "wordTensorInfer = convertToTensor(listSentencePadInfer)\n",
        "X_infer = np.array(wordTensorInfer)\n",
        "print(wordTensorInfer[0])"
      ]
    },
    {
      "cell_type": "code",
      "execution_count": 55,
      "id": "c10d8f6f",
      "metadata": {},
      "outputs": [
        {
          "name": "stdout",
          "output_type": "stream",
          "text": [
            "\u001b[1m73/73\u001b[0m \u001b[32m━━━━━━━━━━━━━━━━━━━━\u001b[0m\u001b[37m\u001b[0m \u001b[1m5s\u001b[0m 61ms/step\n"
          ]
        }
      ],
      "source": [
        "ID = df_infer[\"id\"]\n",
        "\n",
        "y_infer = modelNLP.predict(X_infer)\n",
        "\n",
        "y_reg_infer = y_infer[0]\n",
        "y_class_infer = np.argmax(y_infer[1], axis=1)\n",
        "\n",
        "\n",
        "df_pred = pd.DataFrame({\n",
        "    \"ID\": ID,\n",
        "    \"Emotion\": y_reg_infer[:, 0],\n",
        "    \"EmotionalPolarity\": y_class_infer,\n",
        "    \"Empathy\": y_reg_infer[:, 1]\n",
        "})\n",
        "\n",
        "\n",
        "df_pred.to_csv(\"predictions_rnn.csv\", index=False)"
      ]
    }
  ],
  "metadata": {
    "accelerator": "GPU",
    "colab": {
      "gpuType": "A100",
      "provenance": []
    },
    "kernelspec": {
      "display_name": "venv",
      "language": "python",
      "name": "python3"
    },
    "language_info": {
      "codemirror_mode": {
        "name": "ipython",
        "version": 3
      },
      "file_extension": ".py",
      "mimetype": "text/x-python",
      "name": "python",
      "nbconvert_exporter": "python",
      "pygments_lexer": "ipython3",
      "version": "3.11.9"
    }
  },
  "nbformat": 4,
  "nbformat_minor": 5
}
