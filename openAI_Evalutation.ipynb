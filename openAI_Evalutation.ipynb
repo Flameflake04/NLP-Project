{
 "cells": [
  {
   "cell_type": "code",
   "execution_count": 62,
   "id": "2ca553dd",
   "metadata": {},
   "outputs": [],
   "source": [
    "from openai import OpenAI\n",
    "\n",
    "import os\n",
    "import pandas as pd\n",
    "from dotenv import load_dotenv\n",
    "\n",
    "# Load environment variables from .env\n",
    "load_dotenv()\n",
    "\n",
    "# Retrieve the API key\n",
    "OpenAI_api_key = os.getenv(\"OPEN_AI_KEY\")"
   ]
  },
  {
   "cell_type": "code",
   "execution_count": 63,
   "id": "c7f3e7c0",
   "metadata": {},
   "outputs": [],
   "source": [
    "def extractData(filename, numLine):\n",
    "    df = pd.read_csv(filename)\n",
    "    df_limit = df[0:numLine]\n",
    "    if filename == \"trac2_CONVT_train.csv\":\n",
    "        df_limit_target = df_limit[[\"text\", \"Emotion\", \"EmotionalPolarity\", \"Empathy\"]]\n",
    "    else:\n",
    "        df_limit_target = df_limit[[\"text\"]]\n",
    "    return df_limit_target\n",
    "\n",
    "\n",
    "df_train = extractData(\"trac2_CONVT_train.csv\", 500)\n",
    "df_test = extractData(\"trac2_CONVT_dev.csv\", 100)\n",
    "df_test\n",
    "\n",
    "df_train_text = df_train.to_markdown(index=False)\n",
    "df_test_text = df_test.to_markdown(index=False)\n",
    "\n",
    "with open(\"input.txt\", \"w\", encoding=\"utf-8\") as f:\n",
    "    f.write(df_train_text)\n",
    "\n",
    "with open(\"test.txt\", \"w\", encoding=\"utf-8\") as f:\n",
    "    f.write(df_test_text)\n"
   ]
  },
  {
   "cell_type": "code",
   "execution_count": 70,
   "id": "b5605290",
   "metadata": {},
   "outputs": [],
   "source": [
    "client = OpenAI(api_key=OpenAI_api_key)\n",
    "\n",
    "prompt = f\"\"\"\n",
    "I will give you a list of train data, your task is to predict and return the correct labels for the test data\n",
    "The goal of this task is, given a conversational turn, to predict its associated emotion intensity, polarity, and empathy level.\n",
    "The emotional polarity is a categorical variable indicating positive, neutral, and negative emotions. \n",
    "The emotion intensity and empathy, on the other hand, are measured on ordinal scales ranging from not likely (0) to very likely (5).\n",
    "The task is classification for emotional polarity, and regression for emotional intensity and empathy.\n",
    "Here is the list of data for your training:\n",
    "\n",
    "{df_train_text}\n",
    "\n",
    "Here is the list of data you need to predict:\n",
    "\n",
    "{df_test_text}\n",
    "\n",
    "Return in the most suitable format for evaluation (json) like this\n",
    "[\n",
    "  {{\"text\": \"Hello how are you?\", \"Emotion\": 1, \"EmotionalPolarity\": 1, \"Empathy\": 1}},\n",
    "  ...\n",
    "]\n",
    "\"\"\"\n",
    "\n",
    "response = client.chat.completions.create(\n",
    "    model=\"gpt-5\",\n",
    "    messages=[\n",
    "        {\"role\": \"system\", \"content\": \"You are an AI model that helps with regression and classification task\"},\n",
    "        {\"role\": \"user\", \"content\": prompt}\n",
    "    ],\n",
    "    temperature=1 \n",
    ")\n",
    "\n",
    "with open(\"LLM_output.txt\", \"w\", encoding=\"utf-8\") as f:\n",
    "    f.write(response.choices[0].message.content)"
   ]
  },
  {
   "cell_type": "code",
   "execution_count": 74,
   "id": "d70102b6",
   "metadata": {},
   "outputs": [],
   "source": [
    "import json\n",
    "import numpy as np\n",
    "with open(\"LLM_output.txt\", \"r\", encoding=\"utf-8\") as f:\n",
    "    predictions = json.load(f)\n",
    "\n",
    "df_predictions = pd.DataFrame(predictions)\n",
    "\n",
    "def processOutput(df):\n",
    "    emotionColumnIndex = df.columns.get_loc(\"Emotion\")\n",
    "    emotionPolarityColumnIndex = df.columns.get_loc(\"EmotionalPolarity\")\n",
    "    emphathyColumnIndex = df.columns.get_loc(\"Empathy\")\n",
    "\n",
    "    Y_reg = []\n",
    "    Y_class = []\n",
    "    instance = []\n",
    "    df = df[0:100]\n",
    "\n",
    "    for i in range(0, len(df)):\n",
    "        instance.append(df.iloc[i, emotionColumnIndex])\n",
    "        instance.append(df.iloc[i, emphathyColumnIndex])\n",
    "        Y_reg.append(instance)\n",
    "        instance = []\n",
    "\n",
    "    for i in range(0, len(df)):\n",
    "        instance.append(df.iloc[i, emotionPolarityColumnIndex])\n",
    "        Y_class.append(instance)\n",
    "        instance = []\n",
    "\n",
    "    return np.array(Y_reg), np.array(Y_class)\n",
    "y_reg_pred, y_class_pred = processOutput(df_predictions)\n"
   ]
  },
  {
   "cell_type": "code",
   "execution_count": 75,
   "id": "6b7944db",
   "metadata": {},
   "outputs": [],
   "source": [
    "import numpy as np\n",
    "\n",
    "df_test = pd.read_csv(\"trac2_CONVT_dev.csv\")\n",
    "df_test[\"EmotionalPolarity\"] = np.ceil(df_test['EmotionalPolarity'])\n",
    "\n",
    "Y_test_reg, Y_test_class = processOutput(df_test)"
   ]
  },
  {
   "cell_type": "code",
   "execution_count": 76,
   "id": "2400fb29",
   "metadata": {},
   "outputs": [
    {
     "name": "stdout",
     "output_type": "stream",
     "text": [
      "MSE per output: [0.5775 1.02  ]\n",
      "RMSE per output: [0.75993421 1.00995049]\n",
      "MAE per output: [0.525 0.7  ]\n",
      "[[14  2  1]\n",
      " [ 6 46 14]\n",
      " [ 0  0 17]]\n"
     ]
    },
    {
     "data": {
      "image/png": "[encoded data removed]",
      "text/plain": [
       "<Figure size 640x480 with 2 Axes>"
      ]
     },
     "metadata": {},
     "output_type": "display_data"
    },
    {
     "name": "stdout",
     "output_type": "stream",
     "text": [
      "0.8418125000000001 0.77 0.7792394112694865 0.77\n"
     ]
    }
   ],
   "source": [
    "from sklearn.metrics import mean_squared_error, mean_absolute_error, r2_score\n",
    "from sklearn.metrics import confusion_matrix, ConfusionMatrixDisplay\n",
    "from sklearn.metrics import precision_score, recall_score, f1_score, accuracy_score\n",
    "import matplotlib.pyplot as plt\n",
    "\n",
    "mse = mean_squared_error(Y_test_reg, y_reg_pred, multioutput='raw_values')\n",
    "print(\"MSE per output:\", mse)\n",
    "\n",
    "rmse = np.sqrt(mse)\n",
    "print(\"RMSE per output:\", rmse)\n",
    "\n",
    "mae = mean_absolute_error(Y_test_reg, y_reg_pred, multioutput='raw_values')\n",
    "print(\"MAE per output:\", mae)\n",
    "\n",
    "cm = confusion_matrix(Y_test_class, y_class_pred)\n",
    "print(cm)\n",
    "disp = ConfusionMatrixDisplay(confusion_matrix=cm)\n",
    "disp.plot(cmap=plt.cm.Blues)\n",
    "plt.show()\n",
    "\n",
    "precision = precision_score(Y_test_class, y_class_pred, average = \"weighted\")\n",
    "\n",
    "recall = recall_score(Y_test_class, y_class_pred, average = \"weighted\")\n",
    "\n",
    "f1 = f1_score(Y_test_class, y_class_pred, average = \"weighted\")\n",
    "\n",
    "accuracy = accuracy_score(Y_test_class, y_class_pred)\n",
    "\n",
    "print(precision, recall, f1, accuracy)"
   ]
  }
 ],
 "metadata": {
  "kernelspec": {
   "display_name": "venv",
   "language": "python",
   "name": "python3"
  },
  "language_info": {
   "codemirror_mode": {
    "name": "ipython",
    "version": 3
   },
   "file_extension": ".py",
   "mimetype": "text/x-python",
   "name": "python",
   "nbconvert_exporter": "python",
   "pygments_lexer": "ipython3",
   "version": "3.11.9"
  }
 },
 "nbformat": 4,
 "nbformat_minor": 5
}
